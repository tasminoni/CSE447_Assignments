{
  "nbformat": 4,
  "nbformat_minor": 0,
  "metadata": {
    "colab": {
      "provenance": []
    },
    "kernelspec": {
      "name": "python3",
      "display_name": "Python 3"
    },
    "language_info": {
      "name": "python"
    }
  },
  "cells": [
    {
      "cell_type": "markdown",
      "source": [
        "# Caesar Cipher"
      ],
      "metadata": {
        "id": "1wOocgMlVig-"
      }
    },
    {
      "cell_type": "code",
      "source": [
        "def decrypt_shift_cipher(ciphertext, key):\n",
        "  decrypted_message = \"\"\n",
        "  for char in ciphertext:\n",
        "      if 'A' <= char <= 'Z':\n",
        "          shifted = (ord(char) - ord('A') - key) % 26\n",
        "          decrypted_message += chr(shifted + ord('A'))\n",
        "      else:\n",
        "          decrypted_message += char\n",
        "  return decrypted_message"
      ],
      "metadata": {
        "id": "DeTQVJUm2hm0"
      },
      "execution_count": null,
      "outputs": []
    },
    {
      "cell_type": "code",
      "execution_count": null,
      "metadata": {
        "id": "mCabVhcQz0bV",
        "colab": {
          "base_uri": "https://localhost:8080/"
        },
        "outputId": "67cc2c6a-b9f8-41ec-f3f6-fffcfac18767"
      },
      "outputs": [
        {
          "output_type": "stream",
          "name": "stdout",
          "text": [
            "N fr Gfyrfs\n"
          ]
        }
      ],
      "source": [
        "def encrypt_shift_cipher(plaintext, key):\n",
        "  encrypted_message = \"\"\n",
        "  for char in plaintext:\n",
        "      if 'A' <= char <= 'Z':\n",
        "          shifted = (ord(char) - ord('A') + key) % 26\n",
        "          encrypted_message += chr(shifted + ord('A'))\n",
        "\n",
        "      elif 'a' <= char <= 'z':\n",
        "        shifted = (ord(char) - ord('a') + key) % 26\n",
        "        encrypted_message += chr(shifted + ord('a'))\n",
        "\n",
        "      else:\n",
        "          encrypted_message += char\n",
        "\n",
        "  return encrypted_message\n",
        "\n",
        "\n",
        "plaintext = \"I am Batman\"\n",
        "#21201532\n",
        "#3+2=5\n",
        "Key= int(5)\n",
        "a=encrypt_shift_cipher(plaintext, Key)\n",
        "print(a)"
      ]
    },
    {
      "cell_type": "code",
      "source": [
        "#Decrypt the following text and find out the value of the key using the decrypt_shift_cipher() method.\n",
        "ciphertext = \"KYV HLZTB SIFNE WFO\"\n",
        "for i in range(26):\n",
        "  print(decrypt_shift_cipher(ciphertext, i))"
      ],
      "metadata": {
        "id": "dBQ7hHE_20uH",
        "collapsed": true,
        "colab": {
          "base_uri": "https://localhost:8080/"
        },
        "outputId": "b8420852-9150-4df1-bd2d-69e70005844a"
      },
      "execution_count": null,
      "outputs": [
        {
          "output_type": "stream",
          "name": "stdout",
          "text": [
            "KYV HLZTB SIFNE WFO\n",
            "JXU GKYSA RHEMD VEN\n",
            "IWT FJXRZ QGDLC UDM\n",
            "HVS EIWQY PFCKB TCL\n",
            "GUR DHVPX OEBJA SBK\n",
            "FTQ CGUOW NDAIZ RAJ\n",
            "ESP BFTNV MCZHY QZI\n",
            "DRO AESMU LBYGX PYH\n",
            "CQN ZDRLT KAXFW OXG\n",
            "BPM YCQKS JZWEV NWF\n",
            "AOL XBPJR IYVDU MVE\n",
            "ZNK WAOIQ HXUCT LUD\n",
            "YMJ VZNHP GWTBS KTC\n",
            "XLI UYMGO FVSAR JSB\n",
            "WKH TXLFN EURZQ IRA\n",
            "VJG SWKEM DTQYP HQZ\n",
            "UIF RVJDL CSPXO GPY\n",
            "THE QUICK BROWN FOX\n",
            "SGD PTHBJ AQNVM ENW\n",
            "RFC OSGAI ZPMUL DMV\n",
            "QEB NRFZH YOLTK CLU\n",
            "PDA MQEYG XNKSJ BKT\n",
            "OCZ LPDXF WMJRI AJS\n",
            "NBY KOCWE VLIQH ZIR\n",
            "MAX JNBVD UKHPG YHQ\n",
            "LZW IMAUC TJGOF XGP\n"
          ]
        }
      ]
    },
    {
      "cell_type": "code",
      "source": [
        "#Encrypt the following plaintext, using the summation of last 2 digits of your ID as the key\n",
        "plaintext = \"I am Batman\""
      ],
      "metadata": {
        "id": "YWqRQMF3455I"
      },
      "execution_count": null,
      "outputs": []
    },
    {
      "cell_type": "markdown",
      "source": [
        "# Substitution Cipher"
      ],
      "metadata": {
        "id": "RqFWriJBVoDO"
      }
    },
    {
      "cell_type": "code",
      "source": [
        "import pandas as pd\n",
        "def frequency_table(text):\n",
        "  table = []\n",
        "  count = 0\n",
        "  for i in text:\n",
        "    if i in 'qwertyuiopasdfghjklzxcvbnm':\n",
        "      count += 1\n",
        "  for i in range(97,123):\n",
        "    table.append(text.count(chr(i))/count)\n",
        "  index = [i[0] for i in sorted(enumerate(table), key=lambda x:x[1])][::-1]\n",
        "  for i in index:\n",
        "    print(chr(97+i)+\":\"+str(table[i]))"
      ],
      "metadata": {
        "id": "ZwImnQeYVtGE"
      },
      "execution_count": null,
      "outputs": []
    },
    {
      "cell_type": "code",
      "source": [
        "ciphertext = \"awbix ildxz kolf a dkzeplld afu zbjjbfm lf bj bz a rwkx iajxpobwwap zdlgbfm a ellgae. jex iajxpobwwap ykxzjblfz awbix afu zex audbjz jl exp ikppxfj buxfjbjt ipbzbz, ildolkfuxu rt exp bfarbwbjt jl pxdxdrxp a olxd. rxnlpx ipahwbfm ahat, jex iajxpobwwap jxwwz awbix jeaj lfx zbux ln jex dkzeplld hbww dagx exp jawwxp afu jex ljexp zbux hbww dagx exp zelpjxp. zex rpxagz lnn jhl obxixz npld jex dkzeplld. lfx zbux dagxz exp zepbfg zdawwxp jeaf xcxp, hebwx afljexp iakzxz exp fxig jl mplh ebme bfjl jex jpxxz, hexpx a obmxlf dbzjagxz exp nlp a zxpoxfj. hbje zldx xnnlpj, awbix rpbfmz expzxwn raig jl exp kzkaw exbmej. zex zjkdrwxz kolf a zdaww xzjajx afu kzxz jex dkzeplld jl pxaie a dlpx aooplopbajx exbmej.\"\n",
        "frequency_table(ciphertext)"
      ],
      "metadata": {
        "id": "2R-LMVH-brn3",
        "colab": {
          "base_uri": "https://localhost:8080/"
        },
        "outputId": "25318bda-7750-4742-e59c-5884e378c568"
      },
      "execution_count": null,
      "outputs": [
        {
          "output_type": "stream",
          "name": "stdout",
          "text": [
            "x:0.140597539543058\n",
            "p:0.08260105448154657\n",
            "a:0.08084358523725835\n",
            "j:0.07908611599297012\n",
            "z:0.07381370826010544\n",
            "l:0.07381370826010544\n",
            "e:0.07205623901581722\n",
            "b:0.06854130052724078\n",
            "w:0.050966608084358524\n",
            "f:0.043936731107205626\n",
            "d:0.043936731107205626\n",
            "i:0.029876977152899824\n",
            "k:0.026362038664323375\n",
            "o:0.022847100175746926\n",
            "u:0.019332161687170474\n",
            "g:0.01757469244288225\n",
            "r:0.015817223198594025\n",
            "n:0.015817223198594025\n",
            "m:0.015817223198594025\n",
            "h:0.015817223198594025\n",
            "t:0.007029876977152899\n",
            "y:0.0017574692442882249\n",
            "c:0.0017574692442882249\n",
            "v:0.0\n",
            "s:0.0\n",
            "q:0.0\n"
          ]
        }
      ]
    },
    {
      "cell_type": "code",
      "source": [
        "ciphertext = \"awbix ildxz kolf a dkzeplld afu zbjjbfm lf bj bz a rwkx iajxpobwwap zdlgbfm a ellgae.\\n jex iajxpobwwap ykxzjblfz awbix afu zex audbjz jl exp ikppxfj buxfjbjt ipbzbz, ildolkfuxu rt exp bfarbwbjt jl pxdxdrxp a olxd.\\n rxnlpx ipahwbfm ahat, jex iajxpobwwap jxwwz awbix jeaj lfx zbux ln jex dkzeplld hbww dagx exp jawwxp afu jex ljexp zbux hbww dagx exp zelpjxp.\\n zex rpxagz lnn jhl obxixz npld jex dkzeplld.\\n lfx zbux dagxz exp zepbfg zdawwxp jeaf xcxp, hebwx afljexp iakzxz exp fxig jl mplh ebme bfjl jex jpxxz, hexpx a obmxlf dbzjagxz exp nlp a zxpoxfj.\\n hbje zldx xnnlpj, awbix rpbfmz expzxwn raig jl exp kzkaw exbmej.\\n zex zjkdrwxz kolf a zdaww xzjajx afu kzxz jex dkzeplld jl pxaie a dlpx aooplopbajx exbmej.\"\n",
        "ciphertext = ciphertext.replace(\"x\",\"E\")\n",
        "print(ciphertext)\n"
      ],
      "metadata": {
        "id": "B2wtNETpfajr",
        "colab": {
          "base_uri": "https://localhost:8080/"
        },
        "outputId": "79401656-e3ee-4e54-d76e-b356b2c3a04c"
      },
      "execution_count": null,
      "outputs": [
        {
          "output_type": "stream",
          "name": "stdout",
          "text": [
            "awbiE ildEz kolf a dkzeplld afu zbjjbfm lf bj bz a rwkE iajEpobwwap zdlgbfm a ellgae.\n",
            " jeE iajEpobwwap ykEzjblfz awbiE afu zeE audbjz jl eEp ikppEfj buEfjbjt ipbzbz, ildolkfuEu rt eEp bfarbwbjt jl pEdEdrEp a olEd.\n",
            " rEnlpE ipahwbfm ahat, jeE iajEpobwwap jEwwz awbiE jeaj lfE zbuE ln jeE dkzeplld hbww dagE eEp jawwEp afu jeE ljeEp zbuE hbww dagE eEp zelpjEp.\n",
            " zeE rpEagz lnn jhl obEiEz npld jeE dkzeplld.\n",
            " lfE zbuE dagEz eEp zepbfg zdawwEp jeaf EcEp, hebwE afljeEp iakzEz eEp fEig jl mplh ebme bfjl jeE jpEEz, heEpE a obmElf dbzjagEz eEp nlp a zEpoEfj.\n",
            " hbje zldE Ennlpj, awbiE rpbfmz eEpzEwn raig jl eEp kzkaw eEbmej.\n",
            " zeE zjkdrwEz kolf a zdaww EzjajE afu kzEz jeE dkzeplld jl pEaie a dlpE aooplopbajE eEbmej.\n"
          ]
        }
      ]
    },
    {
      "cell_type": "code",
      "source": [
        "ciphertext = \"xeo iwy djqqod mohzs xeo ezfjrzy, glixjyc l slft, zflyco chzs lgfzii xeo xflyawjh hlydiglqo.\\n l coyxho mfooro fwixhod xeo holkoi zv xeo xlhh zln xfooi, gfolxjyc l izzxejyc iutqezyu zv ylxwfo'i tohzdjoi.\\n li xsjhjcex doigoydod, xeo ixlfi mocly xz otofco, dzxxjyc xeo jydjcz glykli zv xeo yjcex inu.\\n vjfovhjoi dlygod jy xeo toldzs, xeojf mjzhwtjyoigoyx hjcexi vhjgnofjyc hjno xjyu hlyxofyi.\\n jy xeo djixlygo, xeo vljyx ewt zv l djixlyx xfljy gzwhd mo eolfd, l fotjydof zv xeo szfhd mouzyd xeji qolgovwh elkoy.\\nl hzyo zsh ezzxod jy xeo djixlygo, mfolnjyc xeo ijhoygo zv xeo yjcex.\\n xeo igoyx zv vfoiehu mlnod mfold slvxod vfzt l yolfmu gzxxlco, oyxjgjyc lyuzyo vzfxwylxo oyzwce xz glxge l sejvv.\\n l fjkof yolfmu chjixoyod jy xeo tzzyhjcex, jxi slxofi fjqqhjyc coyxhu li jx vhzsod zyslfd.\\n jx sli l tztoyx zv iofoyjxu lyd ixjhhyoii, l qlwio jy xeo ewixho lyd mwixho zv hjvo, seofo zyo gzwhd ijtqhu opjix lyd ilkzf xeo molwxu zv xeo szfhd lfzwyd xeot.\"\n",
        "\n",
        "frequency_table(ciphertext)\n"
      ],
      "metadata": {
        "colab": {
          "base_uri": "https://localhost:8080/"
        },
        "id": "arbTV0rJN8zN",
        "outputId": "eed3b433-b28b-4d25-cac0-d4c50ade15cd"
      },
      "execution_count": null,
      "outputs": [
        {
          "output_type": "stream",
          "name": "stdout",
          "text": [
            "o:0.13474240422721268\n",
            "x:0.0977542932628798\n",
            "y:0.083223249669749\n",
            "l:0.07926023778071334\n",
            "j:0.071334214002642\n",
            "z:0.06472919418758256\n",
            "i:0.05812417437252312\n",
            "e:0.05416116248348745\n",
            "f:0.05019815059445178\n",
            "h:0.0488771466314399\n",
            "d:0.04491413474240423\n",
            "v:0.03038309114927345\n",
            "c:0.03038309114927345\n",
            "g:0.026420079260237782\n",
            "w:0.021136063408190225\n",
            "s:0.019815059445178335\n",
            "t:0.018494055482166448\n",
            "u:0.017173051519154558\n",
            "m:0.017173051519154558\n",
            "q:0.011889035667107\n",
            "n:0.007926023778071334\n",
            "k:0.0066050198150594455\n",
            "r:0.002642007926023778\n",
            "p:0.001321003963011889\n",
            "a:0.001321003963011889\n",
            "b:0.0\n"
          ]
        }
      ]
    },
    {
      "cell_type": "code",
      "source": [
        "ciphertext = \"xeo iwy djqqod mohzs xeo ezfjrzy, glixjyc l slft, zflyco chzs lgfzii xeo xflyawjh hlydiglqo.\\n l coyxho mfooro fwixhod xeo holkoi zv xeo xlhh zln xfooi, gfolxjyc l izzxejyc iutqezyu zv ylxwfo'i tohzdjoi.\\n li xsjhjcex doigoydod, xeo ixlfi mocly xz otofco, dzxxjyc xeo jydjcz glykli zv xeo yjcex inu.\\n vjfovhjoi dlygod jy xeo toldzs, xeojf mjzhwtjyoigoyx hjcexi vhjgnofjyc hjno xjyu hlyxofyi.\\n jy xeo djixlygo, xeo vljyx ewt zv l djixlyx xfljy gzwhd mo eolfd, l fotjydof zv xeo szfhd mouzyd xeji qolgovwh elkoy.\\nl hzyo zsh ezzxod jy xeo djixlygo, mfolnjyc xeo ijhoygo zv xeo yjcex.\\n xeo igoyx zv vfoiehu mlnod mfold slvxod vfzt l yolfmu gzxxlco, oyxjgjyc lyuzyo vzfxwylxo oyzwce xz glxge l sejvv.\\n l fjkof yolfmu chjixoyod jy xeo tzzyhjcex, jxi slxofi fjqqhjyc coyxhu li jx vhzsod zyslfd.\\n jx sli l tztoyx zv iofoyjxu lyd ixjhhyoii, l qlwio jy xeo ewixho lyd mwixho zv hjvo, seofo zyo gzwhd ijtqhu opjix lyd ilkzf xeo molwxu zv xeo szfhd lfzwyd xeot.\"\n",
        "ciphertext = ciphertext.replace(\"o\",\"E\")\n",
        "ciphertext = ciphertext.replace(\"x\",\"T\")\n",
        "ciphertext = ciphertext.replace(\"e\",\"H\")\n",
        "ciphertext = ciphertext.replace(\"l\",\"A\")\n",
        "ciphertext = ciphertext.replace(\"j\",\"I\")\n",
        "ciphertext = ciphertext.replace(\"j  \",\"I\")\n",
        "\n",
        "\n",
        "print(ciphertext)\n"
      ],
      "metadata": {
        "colab": {
          "base_uri": "https://localhost:8080/"
        },
        "id": "8gK7BGn1N9EE",
        "outputId": "4bf22a5a-9a26-4133-fc11-484f2f1f86a3"
      },
      "execution_count": null,
      "outputs": [
        {
          "output_type": "stream",
          "name": "stdout",
          "text": [
            "THE iwy dIqqEd mEhzs THE HzfIrzy, gAiTIyc A sAft, zfAycE chzs Agfzii THE TfAyawIh hAydigAqE.\n",
            " A cEyThE mfEErE fwiThEd THE hEAkEi zv THE TAhh zAn TfEEi, gfEATIyc A izzTHIyc iutqHzyu zv yATwfE'i tEhzdIEi.\n",
            " Ai TsIhIcHT dEigEydEd, THE iTAfi mEcAy Tz EtEfcE, dzTTIyc THE IydIcz gAykAi zv THE yIcHT inu.\n",
            " vIfEvhIEi dAygEd Iy THE tEAdzs, THEIf mIzhwtIyEigEyT hIcHTi vhIgnEfIyc hInE TIyu hAyTEfyi.\n",
            " Iy THE dIiTAygE, THE vAIyT Hwt zv A dIiTAyT TfAIy gzwhd mE HEAfd, A fEtIydEf zv THE szfhd mEuzyd THIi qEAgEvwh HAkEy.\n",
            "A hzyE zsh HzzTEd Iy THE dIiTAygE, mfEAnIyc THE iIhEygE zv THE yIcHT.\n",
            " THE igEyT zv vfEiHhu mAnEd mfEAd sAvTEd vfzt A yEAfmu gzTTAcE, EyTIgIyc AyuzyE vzfTwyATE EyzwcH Tz gATgH A sHIvv.\n",
            " A fIkEf yEAfmu chIiTEyEd Iy THE tzzyhIcHT, ITi sATEfi fIqqhIyc cEyThu Ai IT vhzsEd zysAfd.\n",
            " IT sAi A tztEyT zv iEfEyITu Ayd iTIhhyEii, A qAwiE Iy THE HwiThE Ayd mwiThE zv hIvE, sHEfE zyE gzwhd iItqhu EpIiT Ayd iAkzf THE mEAwTu zv THE szfhd Afzwyd THEt.\n"
          ]
        }
      ]
    },
    {
      "cell_type": "code",
      "source": [],
      "metadata": {
        "id": "q0NDBnNIQoh7"
      },
      "execution_count": null,
      "outputs": []
    }
  ]
}