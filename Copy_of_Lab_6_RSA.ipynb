{
  "cells": [
    {
      "cell_type": "markdown",
      "metadata": {
        "id": "SN8H1wkXPXZ9"
      },
      "source": [
        "# RSA"
      ]
    },
    {
      "cell_type": "code",
      "source": [
        "pip install sympy"
      ],
      "metadata": {
        "colab": {
          "base_uri": "https://localhost:8080/"
        },
        "id": "BeJ4yXyIaDhu",
        "outputId": "af7c0c52-2953-49d4-8a24-e3e0026a6247"
      },
      "execution_count": null,
      "outputs": [
        {
          "output_type": "stream",
          "name": "stdout",
          "text": [
            "Requirement already satisfied: sympy in /usr/local/lib/python3.10/dist-packages (1.13.1)\n",
            "Requirement already satisfied: mpmath<1.4,>=1.1.0 in /usr/local/lib/python3.10/dist-packages (from sympy) (1.3.0)\n"
          ]
        }
      ]
    },
    {
      "cell_type": "code",
      "execution_count": null,
      "metadata": {
        "colab": {
          "base_uri": "https://localhost:8080/"
        },
        "id": "cdtAO8nJT2kf",
        "outputId": "e8f9117c-df75-4769-aa7a-d9c36fc3f4c2"
      },
      "outputs": [
        {
          "output_type": "stream",
          "name": "stdout",
          "text": [
            "91694925243764\n"
          ]
        }
      ],
      "source": [
        "m = int(\"Secret\".encode(\"utf-8\").hex(),16)\n",
        "print(m)"
      ]
    },
    {
      "cell_type": "code",
      "source": [
        "from sympy import mod_inverse, isprime, gcd\n",
        "import random\n",
        "\n",
        "def generate_prime(bits):\n",
        "    while True:\n",
        "        candidate = random.getrandbits(bits) | (1 << (bits - 1)) | 1\n",
        "        if isprime(candidate):\n",
        "            return candidate\n",
        "\n",
        "def rsa_keygen(bits, e):\n",
        "    while True:\n",
        "        p, q = generate_prime(bits), generate_prime(bits)\n",
        "        n = p * q\n",
        "        phi_n = (p - 1) * (q - 1)\n",
        "        if gcd(e, phi_n) == 1:\n",
        "            d = mod_inverse(e, phi_n)\n",
        "            return n, e, d\n",
        "\n",
        "def rsa_encrypt(m, e, n):\n",
        "    return pow(m, e, n)\n",
        "\n",
        "def rsa_decrypt(c, d, n):\n",
        "    return pow(c, d, n)\n",
        "\n",
        "bits = 128\n",
        "e = 11\n",
        "\n",
        "n, e, d = rsa_keygen(bits, e)\n",
        "\n",
        "ciphertext = rsa_encrypt(m, e, n)\n",
        "\n",
        "decrypted_message = rsa_decrypt(ciphertext, d, n)\n",
        "decrypted_text = bytes.fromhex(hex(decrypted_message)[2:]).decode(\"utf-8\")\n",
        "\n",
        "print(\"Original Message:\", message)\n",
        "print(\"Encoded Message (m):\", m)\n",
        "print(\"Public Key (e, n):\", (e, n))\n",
        "print(\"Private Key (d):\", d)\n",
        "print(\"Ciphertext:\", ciphertext)\n",
        "print(\"Decrypted Message:\", decrypted_text)\n"
      ],
      "metadata": {
        "colab": {
          "base_uri": "https://localhost:8080/"
        },
        "id": "_iW2K_pvaesF",
        "outputId": "fdb2ef8d-ba6d-455b-f906-f28719cdb4a3"
      },
      "execution_count": null,
      "outputs": [
        {
          "output_type": "stream",
          "name": "stdout",
          "text": [
            "Original Message: Secret\n",
            "Encoded Message (m): 91694925243764\n",
            "Public Key (e, n): (11, 39900642014936191410120346655906018403495566539898866654006898319566232426197)\n",
            "Private Key (d): 25391317645868485442803856962849284438333691501958129526353902819511278312223\n",
            "Ciphertext: 2312593872518085810795393156600055497041047168183198767125582459591767645790\n",
            "Decrypted Message: Secret\n"
          ]
        }
      ]
    },
    {
      "cell_type": "code",
      "source": [
        "m = 91694925243764\n",
        "print(bytes.fromhex(hex(m)[2:]).decode('utf-8') )"
      ],
      "metadata": {
        "colab": {
          "base_uri": "https://localhost:8080/"
        },
        "id": "sHDbhVSGFN6K",
        "outputId": "15e98627-efde-4129-8909-1735e9f6a9e9"
      },
      "execution_count": null,
      "outputs": [
        {
          "output_type": "stream",
          "name": "stdout",
          "text": [
            "Secret\n"
          ]
        }
      ]
    }
  ],
  "metadata": {
    "colab": {
      "provenance": []
    },
    "kernelspec": {
      "display_name": "Python 3",
      "name": "python3"
    },
    "language_info": {
      "name": "python"
    }
  },
  "nbformat": 4,
  "nbformat_minor": 0
}