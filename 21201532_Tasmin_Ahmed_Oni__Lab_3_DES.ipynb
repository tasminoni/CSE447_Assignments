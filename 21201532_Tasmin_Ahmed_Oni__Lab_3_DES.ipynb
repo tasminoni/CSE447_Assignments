{
  "nbformat": 4,
  "nbformat_minor": 0,
  "metadata": {
    "colab": {
      "provenance": []
    },
    "kernelspec": {
      "name": "python3",
      "display_name": "Python 3"
    },
    "language_info": {
      "name": "python"
    }
  },
  "cells": [
    {
      "cell_type": "code",
      "source": [
        "!pip install PyCryptodome"
      ],
      "metadata": {
        "colab": {
          "base_uri": "https://localhost:8080/"
        },
        "id": "Mo9IWa4YeIqm",
        "outputId": "24228e4e-2098-43be-9a56-60c183531b1c"
      },
      "execution_count": null,
      "outputs": [
        {
          "output_type": "stream",
          "name": "stdout",
          "text": [
            "Collecting PyCryptodome\n",
            "  Downloading pycryptodome-3.21.0-cp36-abi3-manylinux_2_17_x86_64.manylinux2014_x86_64.whl.metadata (3.4 kB)\n",
            "Downloading pycryptodome-3.21.0-cp36-abi3-manylinux_2_17_x86_64.manylinux2014_x86_64.whl (2.3 MB)\n",
            "\u001b[2K   \u001b[90m━━━━━━━━━━━━━━━━━━━━━━━━━━━━━━━━━━━━━━━━\u001b[0m \u001b[32m2.3/2.3 MB\u001b[0m \u001b[31m18.6 MB/s\u001b[0m eta \u001b[36m0:00:00\u001b[0m\n",
            "\u001b[?25hInstalling collected packages: PyCryptodome\n",
            "Successfully installed PyCryptodome-3.21.0\n"
          ]
        }
      ]
    },
    {
      "cell_type": "code",
      "execution_count": null,
      "metadata": {
        "id": "gtdy5PGTd2Lb"
      },
      "outputs": [],
      "source": [
        "from Crypto.Cipher import DES\n",
        "from Crypto.Random import get_random_bytes"
      ]
    },
    {
      "cell_type": "code",
      "source": [
        "def pad_text(text):\n",
        "    padding_length = 8 - (len(text) % 8)\n",
        "    padded_text = text + bytes([padding_length] * padding_length)\n",
        "    return padded_text"
      ],
      "metadata": {
        "id": "2YUag_rOe8Ox"
      },
      "execution_count": null,
      "outputs": []
    },
    {
      "cell_type": "code",
      "source": [
        "def des_encrypt(plaintext, key):\n",
        "    cipher = DES.new(key, DES.MODE_ECB)\n",
        "    ciphertext = cipher.encrypt(plaintext)\n",
        "    return ciphertext"
      ],
      "metadata": {
        "id": "N7Yr6dX6fFEd"
      },
      "execution_count": null,
      "outputs": []
    },
    {
      "cell_type": "code",
      "source": [
        "plaintext = b\"This is a CSE447 lab\"\n",
        "key = get_random_bytes(8)  # Generate a random 64-bit (8-byte) key\n",
        "\n",
        "print(\"Original plaintext:\", plaintext.decode('utf-8'))\n",
        "print(\"Original key (in bytes):\", key)\n",
        "print(len(key))\n",
        "\n",
        "plaintext = pad_text(plaintext)\n",
        "\n",
        "ciphertext = des_encrypt(plaintext, key)\n",
        "print(\"Encrypted ciphertext (in bytes):\", ciphertext)"
      ],
      "metadata": {
        "colab": {
          "base_uri": "https://localhost:8080/"
        },
        "id": "zdMdYJzofDCi",
        "outputId": "87f80a21-26b3-4aac-d790-10415dde09fe"
      },
      "execution_count": null,
      "outputs": [
        {
          "output_type": "stream",
          "name": "stdout",
          "text": [
            "Original plaintext: This is a CSE447 lab\n",
            "Original key (in bytes): b'\\xd7\\x89\\x12t5\\xf9\\xaa\\xa7'\n",
            "8\n",
            "Encrypted ciphertext (in bytes): b'\\x94N\\xde\\xb6:\\xb1\\xe5\\xc9\\x03\\xf2~\\xe3Z\\xbc\\rz\\x10X\\xd3\\xc6\\xb7\\x11\\x1a\\xf6'\n"
          ]
        }
      ]
    },
    {
      "cell_type": "code",
      "source": [
        "def unpad_text(padded_text):\n",
        "    # Remove the padding bytes to get the original plaintext\n",
        "    # Done for you\n",
        "    padding_length = padded_text[-1]\n",
        "    if padding_length > 0 and padding_length <= 8:\n",
        "        return padded_text[:-padding_length]\n",
        "    else:\n",
        "        return padded_text"
      ],
      "metadata": {
        "id": "KoXC3lYDfK2_"
      },
      "execution_count": null,
      "outputs": []
    },
    {
      "cell_type": "code",
      "source": [
        "def des_decrypt(ciphertext, key):\n",
        "  #decrypt DES(Mode:ECB) and return the plaintext\n",
        "  cipher = DES.new(key, DES.MODE_ECB)\n",
        "  plaintext = cipher.decrypt(ciphertext)\n",
        "  return plaintext"
      ],
      "metadata": {
        "id": "u2i13KIUfL21"
      },
      "execution_count": null,
      "outputs": []
    },
    {
      "cell_type": "code",
      "source": [
        "# Replace these with your ciphertext and key\n",
        "ciphertext =b'\\x94N\\xde\\xb6:\\xb1\\xe5\\xc9\\x03\\xf2~\\xe3Z\\xbc\\rz\\x10X\\xd3\\xc6\\xb7\\x11\\x1a\\xf6'\n",
        "key = b'\\xd7\\x89\\x12t5\\xf9\\xaa\\xa7'\n",
        "\n",
        "decrypted_text = des_decrypt(ciphertext, key)\n",
        "original_text = unpad_text(decrypted_text)\n",
        "\n",
        "print(\"Decrypted text:\", original_text.decode('utf-8'))"
      ],
      "metadata": {
        "colab": {
          "base_uri": "https://localhost:8080/"
        },
        "id": "8IfaHQVvfO4m",
        "outputId": "de5e7f3a-4e75-48f9-f58f-8c1db0d45ba4"
      },
      "execution_count": null,
      "outputs": [
        {
          "output_type": "stream",
          "name": "stdout",
          "text": [
            "Decrypted text: This is a CSE447 lab\n"
          ]
        }
      ]
    },
    {
      "cell_type": "code",
      "source": [
        "#Implement double DES"
      ],
      "metadata": {
        "id": "jWwMSldIgfxl"
      },
      "execution_count": null,
      "outputs": []
    }
  ]
}