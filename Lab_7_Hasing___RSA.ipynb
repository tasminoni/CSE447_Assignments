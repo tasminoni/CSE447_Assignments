{
  "nbformat": 4,
  "nbformat_minor": 0,
  "metadata": {
    "colab": {
      "provenance": []
    },
    "kernelspec": {
      "name": "python3",
      "display_name": "Python 3"
    },
    "language_info": {
      "name": "python"
    }
  },
  "cells": [
    {
      "cell_type": "markdown",
      "source": [
        "# Hashing"
      ],
      "metadata": {
        "id": "JGfliRpGPNM8"
      }
    },
    {
      "cell_type": "code",
      "execution_count": null,
      "metadata": {
        "colab": {
          "base_uri": "https://localhost:8080/"
        },
        "id": "YrV9WshMpiyT",
        "outputId": "0dcf81fd-e77a-4a00-ee0d-4ddb30deed2c"
      },
      "outputs": [
        {
          "output_type": "stream",
          "name": "stdout",
          "text": [
            "64ef07ce3e4b420c334227eecb3b3f4c\n",
            "b584eec728548aced5a66c0267dd520a00871b5e7b735b2d8202f86719f61857\n",
            "1dbb2224e5108b80246acacd67afa3304c023c467a4a5b4d3c3aaf97508ab11208b5635a7d759a7cacac4e688141dedb953030f364ceff54d9b7f34813e2ca20\n",
            "b804ec5a0d83d19d8db908572f51196505d09f98\n"
          ]
        }
      ],
      "source": [
        "import hashlib\n",
        "\n",
        "md5 = hashlib.md5(b'Cryptography')\n",
        "sha256 = hashlib.sha256(b'Cryptography')\n",
        "sha512 = hashlib.sha512(b'Cryptography')\n",
        "sha1 = hashlib.sha1(b'Cryptography')\n",
        "\n",
        "print(md5.hexdigest())\n",
        "print(sha256.hexdigest())\n",
        "print(sha512.hexdigest())\n",
        "print(sha1.hexdigest())"
      ]
    },
    {
      "cell_type": "markdown",
      "source": [
        "# Create MD5 Hash of a file"
      ],
      "metadata": {
        "id": "RLfgCsAGFFh9"
      }
    },
    {
      "cell_type": "code",
      "source": [
        "print(hashlib.md5(\"passlist.txt\".encode('UTF-8')).hexdigest())"
      ],
      "metadata": {
        "colab": {
          "base_uri": "https://localhost:8080/"
        },
        "id": "sjes1PbMDmVh",
        "outputId": "fe768e83-0b0a-4340-90dd-deb4069bd7ab"
      },
      "execution_count": null,
      "outputs": [
        {
          "output_type": "stream",
          "name": "stdout",
          "text": [
            "aaa96b80151e59ec5f389c55be30443a\n"
          ]
        }
      ]
    },
    {
      "cell_type": "code",
      "source": [
        "file_name = '/content/passlist.txt'\n",
        "\n",
        "with open(file_name) as f:\n",
        "    data = f.read()\n",
        "    md5hash = hashlib.md5(data.encode('UTF-8')).hexdigest()\n",
        "print(md5hash)"
      ],
      "metadata": {
        "colab": {
          "base_uri": "https://localhost:8080/"
        },
        "id": "X85RHo8HFMu4",
        "outputId": "6e26dc20-7290-4501-f8f0-823e4ec40031"
      },
      "execution_count": null,
      "outputs": [
        {
          "output_type": "stream",
          "name": "stdout",
          "text": [
            "abf0076950fb6d72ae175f91581c3373\n"
          ]
        }
      ]
    },
    {
      "cell_type": "markdown",
      "source": [
        "# Task 1"
      ],
      "metadata": {
        "id": "YGfX02Z6JghK"
      }
    },
    {
      "cell_type": "code",
      "source": [
        "class Admin:\n",
        "\n",
        "  def __init__(self):\n",
        "    self.username = 'admin'\n",
        "    self.password = '8062dc84e0faa9e553192841432d4836208f700d43f3b68a53cc30ad4b7b3464'\n",
        "\n",
        "  def login(self,username,password):\n",
        "    if username == self.username and password == self.password:\n",
        "      return \"Login successful\"\n",
        "    else:\n",
        "      return \"Wrong password. Please try again\""
      ],
      "metadata": {
        "id": "QHlz-TqwC-5d"
      },
      "execution_count": null,
      "outputs": []
    },
    {
      "cell_type": "code",
      "source": [
        "user = Admin()\n",
        "user.login(\"admin\",\"8062dc84e0faa9e553192841432d4836208f700d43f3b68a53cc30ad4b7b3464\")"
      ],
      "metadata": {
        "colab": {
          "base_uri": "https://localhost:8080/",
          "height": 35
        },
        "id": "2v0RlwdgvSDV",
        "outputId": "505e7235-eb68-4327-d6f2-d11ad1ec0fe4"
      },
      "execution_count": null,
      "outputs": [
        {
          "output_type": "execute_result",
          "data": {
            "text/plain": [
              "'Login successful'"
            ],
            "application/vnd.google.colaboratory.intrinsic+json": {
              "type": "string"
            }
          },
          "metadata": {},
          "execution_count": 6
        }
      ]
    },
    {
      "cell_type": "markdown",
      "source": [
        "Your task is to find the plaintext password using dictionary attack.\n",
        "Download password list: https://drive.google.com/file/d/1tqoWvRJu1h1uOfsxXiJ6G_ccY6DdsV_9/view?usp=share_link"
      ],
      "metadata": {
        "id": "yAtkOtlwEfdE"
      }
    },
    {
      "cell_type": "code",
      "source": [
        "!pip install gdown"
      ],
      "metadata": {
        "colab": {
          "base_uri": "https://localhost:8080/"
        },
        "id": "tZUSbigvc1MC",
        "outputId": "1b5da4a5-5acb-4c63-bad9-24579a201006"
      },
      "execution_count": null,
      "outputs": [
        {
          "output_type": "stream",
          "name": "stdout",
          "text": [
            "Requirement already satisfied: gdown in /usr/local/lib/python3.10/dist-packages (5.2.0)\n",
            "Requirement already satisfied: beautifulsoup4 in /usr/local/lib/python3.10/dist-packages (from gdown) (4.12.3)\n",
            "Requirement already satisfied: filelock in /usr/local/lib/python3.10/dist-packages (from gdown) (3.16.1)\n",
            "Requirement already satisfied: requests[socks] in /usr/local/lib/python3.10/dist-packages (from gdown) (2.32.3)\n",
            "Requirement already satisfied: tqdm in /usr/local/lib/python3.10/dist-packages (from gdown) (4.66.6)\n",
            "Requirement already satisfied: soupsieve>1.2 in /usr/local/lib/python3.10/dist-packages (from beautifulsoup4->gdown) (2.6)\n",
            "Requirement already satisfied: charset-normalizer<4,>=2 in /usr/local/lib/python3.10/dist-packages (from requests[socks]->gdown) (3.4.0)\n",
            "Requirement already satisfied: idna<4,>=2.5 in /usr/local/lib/python3.10/dist-packages (from requests[socks]->gdown) (3.10)\n",
            "Requirement already satisfied: urllib3<3,>=1.21.1 in /usr/local/lib/python3.10/dist-packages (from requests[socks]->gdown) (2.2.3)\n",
            "Requirement already satisfied: certifi>=2017.4.17 in /usr/local/lib/python3.10/dist-packages (from requests[socks]->gdown) (2024.8.30)\n",
            "Requirement already satisfied: PySocks!=1.5.7,>=1.5.6 in /usr/local/lib/python3.10/dist-packages (from requests[socks]->gdown) (1.7.1)\n"
          ]
        }
      ]
    },
    {
      "cell_type": "code",
      "source": [
        "!gdown --fuzzy https://drive.google.com/file/d/1tqoWvRJu1h1uOfsxXiJ6G_ccY6DdsV_9/view?usp=share_link"
      ],
      "metadata": {
        "colab": {
          "base_uri": "https://localhost:8080/"
        },
        "id": "Bgkkoku8c9oK",
        "outputId": "34e644a4-c739-4d8e-9248-dd42bbcfcbf4"
      },
      "execution_count": null,
      "outputs": [
        {
          "output_type": "stream",
          "name": "stdout",
          "text": [
            "Downloading...\n",
            "From: https://drive.google.com/uc?id=1tqoWvRJu1h1uOfsxXiJ6G_ccY6DdsV_9\n",
            "To: /content/passlist.txt\n",
            "\r  0% 0.00/86.5k [00:00<?, ?B/s]\r100% 86.5k/86.5k [00:00<00:00, 5.43MB/s]\n"
          ]
        }
      ]
    },
    {
      "cell_type": "code",
      "source": [
        "import hashlib\n",
        "\n",
        "\n",
        "target_hash = \"8062dc84e0faa9e553192841432d4836208f700d43f3b68a53cc30ad4b7b3464\"\n",
        "\n",
        "with open(\"passlist.txt\", \"r\") as f:\n",
        "    for line in f:\n",
        "        password = line.strip()\n",
        "        curr_hash = hashlib.sha256(password.encode()).hexdigest()\n",
        "        if curr_hash == target_hash:\n",
        "            print(f\"Password found: {password}\")\n",
        "            break\n",
        "    else:\n",
        "        print(\"Password not found in the list.\")\n"
      ],
      "metadata": {
        "id": "-tQDprrcPUKa",
        "colab": {
          "base_uri": "https://localhost:8080/"
        },
        "outputId": "9541120f-d1a9-4945-d8a4-4d1f69bf09aa"
      },
      "execution_count": null,
      "outputs": [
        {
          "output_type": "stream",
          "name": "stdout",
          "text": [
            "Password found: B2bFmZZw9W56h2Z\n"
          ]
        }
      ]
    },
    {
      "cell_type": "code",
      "source": [],
      "metadata": {
        "id": "w3lzEKCads-X"
      },
      "execution_count": null,
      "outputs": []
    }
  ]
}