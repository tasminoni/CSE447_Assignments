{
  "nbformat": 4,
  "nbformat_minor": 0,
  "metadata": {
    "colab": {
      "provenance": []
    },
    "kernelspec": {
      "name": "python3",
      "display_name": "Python 3"
    },
    "language_info": {
      "name": "python"
    }
  },
  "cells": [
    {
      "cell_type": "code",
      "source": [
        "from PIL import Image"
      ],
      "metadata": {
        "id": "fkzpzEpATZXt"
      },
      "execution_count": null,
      "outputs": []
    },
    {
      "cell_type": "code",
      "source": [
        "def is_black_and_white(img):\n",
        "    if img.mode not in (\"RGB\", \"L\"):\n",
        "        img = img.convert(\"RGB\")\n",
        "\n",
        "\n",
        "    if img.mode == \"L\":\n",
        "        return True\n",
        "\n",
        "\n",
        "    pixels = img.load()\n",
        "    width, height = img.size\n",
        "    for y in range(height):\n",
        "        for x in range(width):\n",
        "            r, g, b = pixels[x, y]\n",
        "            if r != g or g != b:\n",
        "                return False\n",
        "    return True"
      ],
      "metadata": {
        "id": "YzMavtWvp0sS"
      },
      "execution_count": null,
      "outputs": []
    },
    {
      "cell_type": "code",
      "source": [
        "image_path = \"/content/kerberos.jpg\"\n",
        "\n",
        "\n",
        "img = Image.open(image_path)\n",
        "\n",
        "if is_black_and_white(img):\n",
        "    print(\"The image is black and white (grayscale).\")\n",
        "else:\n",
        "    print(\"The image is not black and white.\")"
      ],
      "metadata": {
        "colab": {
          "base_uri": "https://localhost:8080/"
        },
        "id": "FmpSVUGUp6wy",
        "outputId": "a86d39f8-fa1f-4797-b4d4-2cf9215f65fe"
      },
      "execution_count": null,
      "outputs": [
        {
          "output_type": "stream",
          "name": "stdout",
          "text": [
            "The image is not black and white.\n"
          ]
        }
      ]
    },
    {
      "cell_type": "code",
      "source": [
        "def convert_to_black_and_white(image_path, output_path):\n",
        "\n",
        "    img = Image.open(image_path)\n",
        "\n",
        "\n",
        "    bw_img = img.convert(\"L\")\n",
        "\n",
        "    bw_img.save(output_path)\n",
        "    print(f\"The image has been converted to black and white and saved as '{output_path}'.\")\n",
        "\n",
        "input_image = \"/content/kerberos.jpg\"\n",
        "output_image = \"/content/kerberos_bw.jpg\"\n",
        "\n",
        "convert_to_black_and_white(input_image, output_image)\n"
      ],
      "metadata": {
        "colab": {
          "base_uri": "https://localhost:8080/"
        },
        "id": "-se5TPIfqxnL",
        "outputId": "8ce7b219-3d3a-4098-aec1-0ab1b172ea9f"
      },
      "execution_count": null,
      "outputs": [
        {
          "output_type": "stream",
          "name": "stdout",
          "text": [
            "The image has been converted to black and white and saved as '/content/kerberos_bw.jpg'.\n"
          ]
        }
      ]
    },
    {
      "cell_type": "code",
      "source": [
        "image_path = \"/content/kerberos_bw.jpg\"\n",
        "\n",
        "\n",
        "img = Image.open(image_path)\n",
        "\n",
        "if is_black_and_white(img):\n",
        "    print(\"The image is black and white (grayscale).\")\n",
        "else:\n",
        "    print(\"The image is not black and white.\")"
      ],
      "metadata": {
        "colab": {
          "base_uri": "https://localhost:8080/"
        },
        "id": "Ecm2d4bPvdrk",
        "outputId": "0e6b6122-3d18-4cd9-cdd5-243670b406fe"
      },
      "execution_count": null,
      "outputs": [
        {
          "output_type": "stream",
          "name": "stdout",
          "text": [
            "The image is black and white (grayscale).\n"
          ]
        }
      ]
    },
    {
      "cell_type": "code",
      "execution_count": null,
      "metadata": {
        "id": "bmj0qCEo05gh"
      },
      "outputs": [],
      "source": [
        "def hide_message(image_path, message):\n",
        "    img = Image.open(image_path).convert('L')\n",
        "\n",
        "    binary_message = ''.join(format(ord(i), '08b') for i in message) + '00000000'\n",
        "\n",
        "    width, height = img.size\n",
        "\n",
        "    max_message_length = width * height\n",
        "    if len(binary_message) > max_message_length:\n",
        "        raise ValueError('Message too long to be hidden in the given image')\n",
        "\n",
        "\n",
        "    new_img = Image.new('L', img.size)\n",
        "    pixels = img.load()\n",
        "    new_pixels = new_img.load()\n",
        "\n",
        "    message_index = 0\n",
        "    for y in range(height):\n",
        "        for x in range(width):\n",
        "            pixel = pixels[x, y]\n",
        "\n",
        "            if message_index < len(binary_message):\n",
        "                pixel_binary = format(pixel, '08b')\n",
        "                pixel_binary = pixel_binary[:-1] + binary_message[message_index]\n",
        "                new_pixel = int(pixel_binary, 2)\n",
        "                message_index += 1\n",
        "            else:\n",
        "\n",
        "                new_pixel = pixel\n",
        "\n",
        "            new_pixels[x, y] = new_pixel\n",
        "\n",
        "    # Save the new image with the hidden message\n",
        "    new_img.save('hidden_bw.png')"
      ]
    },
    {
      "cell_type": "code",
      "source": [
        "hide_message(\"/content/kerberos.jpg\", \"CSE447\")"
      ],
      "metadata": {
        "id": "PishPopOYB8h"
      },
      "execution_count": null,
      "outputs": []
    },
    {
      "cell_type": "code",
      "source": [
        "def extract_message(image_path):\n",
        "    img = Image.open(image_path).convert('L')\n",
        "\n",
        "    width, height = img.size\n",
        "    pixels = img.load()\n",
        "\n",
        "    binary_message = ''\n",
        "    for y in range(height):\n",
        "        for x in range(width):\n",
        "            pixel = pixels[x, y]\n",
        "            pixel_binary = format(pixel, '08b')\n",
        "            binary_message += pixel_binary[-1]\n",
        "\n",
        "    message = ''\n",
        "    for i in range(0, len(binary_message), 8):\n",
        "        byte = binary_message[i:i+8]\n",
        "        if byte == '00000000':\n",
        "            break\n",
        "        message += chr(int(byte, 2))\n",
        "\n",
        "    return message"
      ],
      "metadata": {
        "id": "tFX7mxnyTNe0"
      },
      "execution_count": null,
      "outputs": []
    },
    {
      "cell_type": "code",
      "source": [
        "extract_message(\"/content/hidden_bw.png\")"
      ],
      "metadata": {
        "id": "S3nysWcf2gyP",
        "colab": {
          "base_uri": "https://localhost:8080/",
          "height": 35
        },
        "outputId": "8cb22533-c4ee-4f0e-ee63-bcb7c267028b"
      },
      "execution_count": null,
      "outputs": [
        {
          "output_type": "execute_result",
          "data": {
            "text/plain": [
              "'CSE447'"
            ],
            "application/vnd.google.colaboratory.intrinsic+json": {
              "type": "string"
            }
          },
          "metadata": {},
          "execution_count": 33
        }
      ]
    }
  ]
}