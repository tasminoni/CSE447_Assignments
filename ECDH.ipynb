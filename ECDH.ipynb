{
  "nbformat": 4,
  "nbformat_minor": 0,
  "metadata": {
    "colab": {
      "provenance": []
    },
    "kernelspec": {
      "name": "python3",
      "display_name": "Python 3"
    },
    "language_info": {
      "name": "python"
    }
  },
  "cells": [
    {
      "cell_type": "code",
      "source": [
        "def inverse_mod(x, p):\n",
        "    return pow(x, -1, p)\n",
        "\n",
        "def point_addition(P, Q, a, p):\n",
        "\n",
        "    if P == (None, None):\n",
        "        return Q\n",
        "    if Q == (None, None):\n",
        "        return P\n",
        "\n",
        "    x1, y1 = P\n",
        "    x2, y2 = Q\n",
        "\n",
        "    if x1 == x2 and y1 == -y2 % p:\n",
        "        return (None, None)\n",
        "\n",
        "    if P != Q:\n",
        "        s = (y2 - y1) * inverse_mod(x2 - x1, p) % p\n",
        "    else:\n",
        "        s = (3 * x1**2 + a) * inverse_mod(2 * y1, p) % p\n",
        "\n",
        "    x3 = (s**2 - x1 - x2) % p\n",
        "    y3 = (s * (x1 - x3) - y1) % p\n",
        "    return (x3, y3)\n",
        "\n",
        "def scalar_multiplication(k, P, a, p):\n",
        "\n",
        "    Q = (None, None)\n",
        "    while k > 0:\n",
        "        if k % 2 == 1:\n",
        "            Q = point_addition(Q, P, a, p)\n",
        "        P = point_addition(P, P, a, p)\n",
        "        k //= 2\n",
        "    return Q\n",
        "\n",
        "if __name__ == \"__main__\":\n",
        "    a = 25\n",
        "    b = 100\n",
        "    p = 997\n",
        "\n",
        "    P = (6, 574)\n",
        "\n",
        "    k = 3\n",
        "    while True:\n",
        "        Q = scalar_multiplication(k, P, a, p)\n",
        "        if Q == P:\n",
        "            break\n",
        "        k += 1\n",
        "\n",
        "    print(f\"{k}P = P Number of iteration: {k}\")\n"
      ],
      "metadata": {
        "colab": {
          "base_uri": "https://localhost:8080/"
        },
        "id": "JpRzvdmp9z96",
        "outputId": "8025d265-c15d-4372-a897-d6490e67cf24"
      },
      "execution_count": null,
      "outputs": [
        {
          "output_type": "stream",
          "name": "stdout",
          "text": [
            "1017P = P Number of iteration: 1017\n"
          ]
        }
      ]
    },
    {
      "cell_type": "code",
      "source": [
        "import random\n",
        "G = (6, 574)\n",
        "\n",
        "private_key_alice = random.randint(2,1017)\n",
        "public_key_alice = scalar_multiplication(private_key_alice, G, a, p)\n",
        "\n",
        "\n",
        "private_key_bob = random.randint(2,1017)\n",
        "public_key_bob = scalar_multiplication(private_key_bob, G, a, p)\n",
        "\n",
        "shared_key_alice = scalar_multiplication(private_key_alice, public_key_bob, a, p)\n",
        "shared_key_bob = scalar_multiplication(private_key_bob, public_key_alice, a, p)\n",
        "\n",
        "print(f\"Alice's public key: {public_key_alice}\")\n",
        "print(f\"Bob's public key: {public_key_bob}\")\n",
        "print(f\"Shared key (Alice's calculation): {shared_key_alice}\")\n",
        "print(f\"Shared key (Bob's calculation): {shared_key_bob}\")\n",
        "print(\"Shared keys match!\" if shared_key_alice == shared_key_bob else \"Shared keys do not match!\")\n"
      ],
      "metadata": {
        "colab": {
          "base_uri": "https://localhost:8080/"
        },
        "id": "B0IjbRkp9z5i",
        "outputId": "d52f77f3-f748-4a06-e719-66d675678a34"
      },
      "execution_count": null,
      "outputs": [
        {
          "output_type": "stream",
          "name": "stdout",
          "text": [
            "Alice's public key: (479, 990)\n",
            "Bob's public key: (836, 142)\n",
            "Shared key (Alice's calculation): (964, 330)\n",
            "Shared key (Bob's calculation): (964, 330)\n",
            "Shared keys match!\n"
          ]
        }
      ]
    },
    {
      "cell_type": "code",
      "source": [],
      "metadata": {
        "id": "yXrIDexH9zxq"
      },
      "execution_count": null,
      "outputs": []
    }
  ]
}